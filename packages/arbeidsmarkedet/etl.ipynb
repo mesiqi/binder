{
 "cells": [
  {
   "cell_type": "code",
   "execution_count": 27,
   "metadata": {},
   "outputs": [],
   "source": [
    "import pandas as pd\n",
    "import dataparcel as dp\n",
    "import dataverk\n",
    "from os import environ"
   ]
  },
  {
   "cell_type": "code",
   "execution_count": 28,
   "metadata": {},
   "outputs": [],
   "source": [
    "environ[\"DATAVERK_NO_SETTINGS_SECRETS\"] = \"True\""
   ]
  },
  {
   "cell_type": "code",
   "execution_count": 29,
   "metadata": {},
   "outputs": [],
   "source": [
    "dv = dataverk.Dataverk()"
   ]
  },
  {
   "cell_type": "code",
   "execution_count": 30,
   "metadata": {},
   "outputs": [],
   "source": [
    "df_2017 = pd.read_csv('https://cc-p-nav.ckan.io/dataset/cf4af47c-fd3e-4a0b-bdda-962cff3caf4e/resource/fcf3b72e-4a25-4a5b-9f28-2864adbb057d/download/nye_arbeidsforhold_2017.csv', nrows=3, sep=';', low_memory=False)"
   ]
  },
  {
   "cell_type": "code",
   "execution_count": 31,
   "metadata": {},
   "outputs": [],
   "source": [
    "df = df_2017"
   ]
  },
  {
   "cell_type": "code",
   "execution_count": 32,
   "metadata": {},
   "outputs": [],
   "source": [
    "readme = \"\"\"\n",
    "#Arbeidsforhold\n",
    "\"\"\""
   ]
  },
  {
   "cell_type": "code",
   "execution_count": 33,
   "metadata": {},
   "outputs": [],
   "source": [
    "metadata = {\n",
    "'id': 'nav_opendata/arbeidsforhold',\n",
    "'title': 'Arbeidsforhold',\n",
    "'License':'MIT',\n",
    "'Author':'NAV',\n",
    "'Source':'NAV',\n",
    "'Keywords':['nøkkeltall, arbeidsforhold'],\n",
    "'Provenance':'NAV',\n",
    "'User':'nav-opendata',\n",
    "'Package':'arbeidsforhold',\n",
    "'bucket_name': 'test-bucket'\n",
    "}"
   ]
  },
  {
   "cell_type": "code",
   "execution_count": 34,
   "metadata": {},
   "outputs": [],
   "source": [
    "mdp = dp.Datapackage(metadata, readme)"
   ]
  },
  {
   "cell_type": "code",
   "execution_count": null,
   "metadata": {},
   "outputs": [],
   "source": [
    "mdp.write_datapackage()"
   ]
  },
  {
   "cell_type": "code",
   "execution_count": 35,
   "metadata": {},
   "outputs": [
    {
     "name": "stderr",
     "output_type": "stream",
     "text": [
      "INFO:google.auth.compute_engine._metadata:Compute Engine Metadata server unavailable.\n"
     ]
    },
    {
     "name": "stdout",
     "output_type": "stream",
     "text": [
      "Could not automatically determine credentials. Please set GOOGLE_APPLICATION_CREDENTIALS or explicitly create credentials and re-run the application. For more information, please see https://developers.google.com/accounts/docs/application-default-credentials.\n",
      "'GoogleStorageConnector' object has no attribute 'bucket'\n",
      "2019-05-06T09:36:13.624602: jovyan <class 'dataverk.connectors.google_storage.GoogleStorageConnector'>: Error writing file bindertest/datapackage.json to google storage\n",
      "2019-05-06T09:36:14.182418: jovyan <class 'dataverk.connectors.elasticsearch.ElasticsearchConnector'>: Document nav_opendata/arbeidsforhold of type odata indexed to elastic index: odata.\n"
     ]
    }
   ],
   "source": [
    "dv.publish(mdp)"
   ]
  },
  {
   "cell_type": "code",
   "execution_count": null,
   "metadata": {},
   "outputs": [],
   "source": []
  }
 ],
 "metadata": {
  "kernelspec": {
   "display_name": "Python 3",
   "language": "python",
   "name": "python3"
  },
  "language_info": {
   "codemirror_mode": {
    "name": "ipython",
    "version": 3
   },
   "file_extension": ".py",
   "mimetype": "text/x-python",
   "name": "python",
   "nbconvert_exporter": "python",
   "pygments_lexer": "ipython3",
   "version": "3.7.3"
  }
 },
 "nbformat": 4,
 "nbformat_minor": 2
}
